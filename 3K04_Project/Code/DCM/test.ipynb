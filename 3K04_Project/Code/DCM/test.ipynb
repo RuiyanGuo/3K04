{
 "cells": [
  {
   "cell_type": "code",
   "execution_count": 2,
   "metadata": {},
   "outputs": [
    {
     "data": {
      "text/plain": [
       "16"
      ]
     },
     "execution_count": 2,
     "metadata": {},
     "output_type": "execute_result"
    }
   ],
   "source": [
    "import struct\n",
    "get_p = (16,55)\n",
    "d = struct.pack(\"<BB\", *get_p)\n",
    "int.from_bytes(b'\\x10',\"little\")"
   ]
  },
  {
   "cell_type": "code",
   "execution_count": 3,
   "metadata": {},
   "outputs": [
    {
     "data": {
      "text/plain": [
       "tuple"
      ]
     },
     "execution_count": 3,
     "metadata": {},
     "output_type": "execute_result"
    }
   ],
   "source": [
    "d = struct.pack(\"<fBB\", 3.45, 6, 7)\n",
    "arr = struct.unpack(\"<f2B\", d)\n",
    "type(arr)"
   ]
  },
  {
   "cell_type": "code",
   "execution_count": 41,
   "metadata": {},
   "outputs": [
    {
     "data": {
      "text/plain": [
       "b'\\x00'"
      ]
     },
     "execution_count": 41,
     "metadata": {},
     "output_type": "execute_result"
    }
   ],
   "source": [
    "struct.pack(\"<B\", 0)"
   ]
  },
  {
   "cell_type": "code",
   "execution_count": 5,
   "metadata": {},
   "outputs": [
    {
     "name": "stdout",
     "output_type": "stream",
     "text": [
      "2\n"
     ]
    }
   ],
   "source": [
    "a = 0\n",
    "if a == 0:\n",
    "    b = 2\n",
    "print(b)"
   ]
  },
  {
   "cell_type": "code",
   "execution_count": 10,
   "metadata": {},
   "outputs": [
    {
     "data": {
      "text/plain": [
       "1"
      ]
     },
     "execution_count": 10,
     "metadata": {},
     "output_type": "execute_result"
    }
   ],
   "source": [
    "a = [1,2,3]\n",
    "a.index(2)"
   ]
  },
  {
   "cell_type": "code",
   "execution_count": 3,
   "metadata": {},
   "outputs": [],
   "source": [
    "import serial\n",
    "import time\n",
    "import struct\n",
    "port = \"COM5\"\n",
    "rate = 115200"
   ]
  },
  {
   "cell_type": "code",
   "execution_count": 35,
   "metadata": {},
   "outputs": [
    {
     "name": "stdout",
     "output_type": "stream",
     "text": [
      "19\n"
     ]
    }
   ],
   "source": [
    "get_param = (0x16, 0x22)\n",
    "padding = [0]*17\n",
    "\n",
    "with serial.Serial(port, rate, timeout=1) as ser:\n",
    "    # ser.write(struct.pack(\"<BB3B2H2f2B3f3BHB\", *get_param, *padding))\n",
    "    ser.write(struct.pack(\"<BB35B\", 0x16, 0x22, *([0]*35)))\n",
    "    # data = struct.unpack(\"<d\", ser.read(8))\n",
    "    data = ser.read(51)\n",
    "    data = struct.unpack(\"<3B2H2f2B3f3BHB2d\", data)\n",
    "    print(len(data))\n",
    "    # time.sleep(2)\n",
    "    # ser.write(struct.pack(\"<BB35B\", 0x16, 0x22, *([0]*35)))\n",
    "    # print(ser.read(51))\n",
    "    # print(struct.unpack(\"<3B2H2f2B3f3BHB2d\", ser.read(51)))\n",
    "\n"
   ]
  },
  {
   "cell_type": "markdown",
   "metadata": {},
   "source": []
  },
  {
   "cell_type": "code",
   "execution_count": null,
   "metadata": {},
   "outputs": [],
   "source": []
  }
 ],
 "metadata": {
  "interpreter": {
   "hash": "22bca30b34b179c13f176a893c5fac1e8ace25660db9aa37bce3b54d45149450"
  },
  "kernelspec": {
   "display_name": "Python 3.8.12 64-bit (conda)",
   "language": "python",
   "name": "python3"
  },
  "language_info": {
   "codemirror_mode": {
    "name": "ipython",
    "version": 3
   },
   "file_extension": ".py",
   "mimetype": "text/x-python",
   "name": "python",
   "nbconvert_exporter": "python",
   "pygments_lexer": "ipython3",
   "version": "3.8.10"
  },
  "orig_nbformat": 4
 },
 "nbformat": 4,
 "nbformat_minor": 2
}
